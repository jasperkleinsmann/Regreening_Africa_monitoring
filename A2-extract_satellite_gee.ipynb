{
  "cells": [
    {
      "cell_type": "code",
      "execution_count": null,
      "metadata": {},
      "outputs": [],
      "source": [
        "# Load packages\n",
        "import ee\n",
        "import pandas as pd\n",
        "from datetime import datetime, date, time, timedelta\n",
        "from dateutil.relativedelta import *\n",
        "import geopandas as gpd\n",
        "import numpy as np\n",
        "import datatable as dt\n",
        "from datatable import f\n",
        "import time\n",
        "from pprint import pprint\n",
        "import os, re\n",
        "from gee_subset import gee_subset\n",
        "import shapely.geometry\n",
        "import re\n",
        "import geemap\n",
        "from geextract import ts_extract"
      ]
    },
    {
      "cell_type": "code",
      "execution_count": null,
      "metadata": {
        "colab": {
          "base_uri": "https://localhost:8080/"
        },
        "id": "49tJ-4EPKEF-",
        "outputId": "8ea8ed99-256d-4861-e472-a076b399aecf"
      },
      "outputs": [],
      "source": [
        "# Trigger the authentication flow.\n",
        "#ee.Authenticate()\n",
        "\n",
        "# Initialize the library.\n",
        "ee.Initialize()"
      ]
    },
    {
      "cell_type": "code",
      "execution_count": 15,
      "metadata": {},
      "outputs": [],
      "source": [
        "country = 'Senegal'"
      ]
    },
    {
      "cell_type": "code",
      "execution_count": 17,
      "metadata": {
        "id": "7GM4RjhDJfDQ"
      },
      "outputs": [],
      "source": [
        "# Import the plot geosjon with the centroids\n",
        "plots = gpd.read_file(\"output/plot_data/\" + country + \"/\" + country + \"_plot_centroid.GeoJSON\")\n",
        "plots_dt = dt.fread(\"output/plot_data/\" + country + \"/\" + country + \"_plot_centroid.csv\")"
      ]
    },
    {
      "cell_type": "code",
      "execution_count": 18,
      "metadata": {
        "id": "VrA_zEiV2kYT"
      },
      "outputs": [],
      "source": [
        "# Create columns with x and y coordinates\n",
        "plots['lon'] = plots['geometry'].x\n",
        "plots['lat'] = plots['geometry'].y "
      ]
    },
    {
      "cell_type": "code",
      "execution_count": 19,
      "metadata": {
        "id": "jxwhEGJAMRCo"
      },
      "outputs": [],
      "source": [
        "x_dt = dt.Frame(plots['lon'])\n",
        "y_dt = dt.Frame(plots['lat'])\n",
        "plots_dt.cbind(x_dt, y_dt)"
      ]
    },
    {
      "cell_type": "code",
      "execution_count": 20,
      "metadata": {
        "id": "a9Bvh9aAz33R"
      },
      "outputs": [],
      "source": [
        "# Import the plot geosjon with the polygon geometries\n",
        "plotsPol = gpd.read_file(\"output/plot_data/\" + country + \"/\" + country + \"_plots_all.GeoJSON\")\n",
        "plotsPol_dt = dt.fread(\"output/plot_data/\" + country + \"/\" + country + \"_plots_all.csv\")"
      ]
    },
    {
      "cell_type": "code",
      "execution_count": 21,
      "metadata": {
        "id": "7ornRlxitQ7n"
      },
      "outputs": [],
      "source": [
        "# Create ee.Multipoint (for GPM extraction)\n",
        "geom_list = []\n",
        "for i in range(x_dt.nrows):\n",
        "  point = [x_dt[i, 'lon'], y_dt[i, 'lat']]\n",
        "  geom_list.append(point)\n",
        "\n",
        "centroid_multi = ee.Geometry.MultiPoint(geom_list)"
      ]
    },
    {
      "cell_type": "code",
      "execution_count": 23,
      "metadata": {
        "id": "XhfOfIobnHdt"
      },
      "outputs": [],
      "source": [
        "# Time series settings\n",
        "start_date = datetime(2022, 10, 27)\n",
        "end_date = datetime.today()"
      ]
    },
    {
      "cell_type": "markdown",
      "metadata": {},
      "source": [
        "**Extract L8 polygons**"
      ]
    },
    {
      "cell_type": "code",
      "execution_count": 24,
      "metadata": {},
      "outputs": [],
      "source": [
        "# Select bands and resolution to extract from landsat 8\n",
        "#bands = [\"SR_B1\", \"SR_B2\", \"SR_B3\", \"SR_B4\", \"SR_B5\", \"SR_B6\", \"SR_B7\", \"QA_PIXEL\", \"ST_CDIST\", \"QA_RADSAT\"]\n",
        "bands = [\"SR_B4\", \"SR_B5\", \"SR_B6\", \"QA_PIXEL\"]\n",
        "scale = 30\n",
        "product='LANDSAT/LC08/C02/T1_L2'"
      ]
    },
    {
      "cell_type": "code",
      "execution_count": 25,
      "metadata": {},
      "outputs": [],
      "source": [
        "# Create function to get yearly dates for the yearly extraction\n",
        "def get_year_dates(start, end):\n",
        "    yearly_dates = [start]\n",
        "    year_diff = (end.year - start.year) + 1\n",
        "\n",
        "    for i in range(1, year_diff+1):\n",
        "        next_year = start_date + relativedelta(years =+ i) \n",
        "        yearly_dates.append(next_year)\n",
        "\n",
        "    return yearly_dates\n",
        "\n",
        "year_dates = get_year_dates(start_date, end_date)"
      ]
    },
    {
      "cell_type": "code",
      "execution_count": null,
      "metadata": {},
      "outputs": [],
      "source": [
        "refl_l8_pol = dt.Frame()\n",
        "for pl in range(len(plotsPol)):\n",
        "    print(pl)\n",
        "\n",
        "    g = [i for i in plotsPol.geometry]\n",
        "    x,y = g[pl].exterior.coords.xy\n",
        "    cords = np.dstack((x,y)).tolist()\n",
        "    geometry = ee.Geometry.Polygon(cords)\n",
        "    geometry = geometry.buffer(0.000063)\n",
        "\n",
        "    # Check if geometry exceeds critical size (15ha)\n",
        "    if plotsPol['Hectare'].iloc[pl] > 100:\n",
        "        print('Area too large --> extracting per year')\n",
        "        # Extract data per year to prevent GEE size error\n",
        "        for yr in range(len(year_dates)-1):\n",
        "            try:\n",
        "                col = ee.ImageCollection(product).\\\n",
        "                    select(tuple(bands)).\\\n",
        "                    filterDate(year_dates[yr], year_dates[yr+1]).filterBounds(geometry)\n",
        "\n",
        "\n",
        "                # Make a df\n",
        "                region = col.getRegion(geometry, int(scale)).getInfo()\n",
        "                df = pd.DataFrame.from_records(region[1:len(region)])\n",
        "                df.columns = region[0]\n",
        "                df = df[['time', 'SR_B4', 'SR_B5', 'SR_B6', 'QA_PIXEL']]\n",
        "  \n",
        "                df.time = df.time / 1000\n",
        "                df['time'] = pd.to_datetime(df['time'], unit = 's')\n",
        "                df.rename(columns = {'time': 'date'}, inplace = True)\n",
        "                df.sort_values(by = 'date')\n",
        "\n",
        "                # Transform to dt\n",
        "                l8_out = dt.Frame(df)\n",
        "\n",
        "                # Create column with plotID \n",
        "                l8_out['plotID'] = plotsPol['plotID'].iloc[pl]\n",
        "                refl_l8_pol.rbind(l8_out)\n",
        "\n",
        "            except:\n",
        "                pass\n",
        "                \n",
        "    else:\n",
        "        col = ee.ImageCollection(product).\\\n",
        "            select(tuple(bands)).\\\n",
        "            filterDate(start_date, end_date).filterBounds(geometry)\n",
        "\n",
        "        region = col.getRegion(geometry, int(scale)).getInfo()\n",
        "\n",
        "        # If no pixels in geometry, take centroid of plot\n",
        "        if len(region) == 1:\n",
        "            print('Not enough pixels in geometry (taking centroid)')\n",
        "            \n",
        "            geometry = ee.Geometry.Point([plots_dt[pl,'lon'], plots_dt[pl, 'lat']])\n",
        "            col = ee.ImageCollection(product).\\\n",
        "                select(tuple(bands)).\\\n",
        "                filterDate(start_date, end_date).filterBounds(geometry)\n",
        "      \n",
        "        region = col.getRegion(geometry, int(scale)).getInfo()\n",
        "        df = pd.DataFrame.from_records(region[1:len(region)])\n",
        "        df.columns = region[0]\n",
        "        df = df[['time', 'SR_B4', 'SR_B5', 'SR_B6', 'QA_PIXEL']]\n",
        "  \n",
        "        df.time = df.time / 1000\n",
        "        df['time'] = pd.to_datetime(df['time'], unit = 's')\n",
        "        df.rename(columns = {'time': 'date'}, inplace = True)\n",
        "        df.sort_values(by = 'date')\n",
        "\n",
        "        # Transform to dt\n",
        "        l8_out = dt.Frame(df)\n",
        "\n",
        "        # Create column with plotID \n",
        "        l8_out['plotID'] = plotsPol['plotID'].iloc[pl]\n",
        "\n",
        "        refl_l8_pol.rbind(l8_out)"
      ]
    },
    {
      "cell_type": "code",
      "execution_count": 27,
      "metadata": {},
      "outputs": [],
      "source": [
        "refl_l8_pol.to_csv(\"output/gee/\" + country + \"_refl_l8_pol_final_months.csv\")"
      ]
    },
    {
      "cell_type": "code",
      "execution_count": 53,
      "metadata": {},
      "outputs": [],
      "source": [
        "refl_l8_pol = dt.fread(\"output/gee/Ethiopia_refl_l8_pol.csv\")"
      ]
    },
    {
      "cell_type": "markdown",
      "metadata": {
        "id": "cyel2-IxlpUf"
      },
      "source": [
        "**Extract Precipitation data (GPM)**"
      ]
    },
    {
      "cell_type": "code",
      "execution_count": 11,
      "metadata": {
        "id": "4IE9H-mEbeaR"
      },
      "outputs": [],
      "source": [
        "## Set parameters for the time series\n",
        "start_ts = datetime(2013, 1, 1)\n",
        "end_ts = datetime.today()\n",
        "\n",
        "# Specify number of days in period of interest\n",
        "d0 = datetime(start_ts.year, start_ts.month, start_ts.day)\n",
        "d1 = datetime(end_ts.year, end_ts.month, 1)\n",
        "delta = d1 - d0\n",
        "days = delta.days\n",
        "\n",
        "# number of months in period\n",
        "def diff_month(d1, d2):\n",
        "    return (d1.year - d2.year) * 12 + d1.month - d2.month\n",
        "months_ts = diff_month(d1, d0)\n",
        "\n",
        "# Create list with the dates off all the observations\n",
        "months_date = []\n",
        "for m in range(months_ts):\n",
        "  first_month = start_ts\n",
        "  next_month = first_month + relativedelta(months =+ m)\n",
        "  months_date.append(next_month)"
      ]
    },
    {
      "cell_type": "code",
      "execution_count": 12,
      "metadata": {
        "id": "-wBKLCAA10nt"
      },
      "outputs": [],
      "source": [
        "# Extract all the precipitation data for all sites\n",
        "gpm = ee.ImageCollection('NASA/GPM_L3/IMERG_V06').\\\n",
        "       select('precipitationCal').\\\n",
        "       filterDate(start_ts, end_ts).filterBounds(centroid_multi)"
      ]
    },
    {
      "cell_type": "code",
      "execution_count": 13,
      "metadata": {
        "id": "xTjAMUpFq0oO"
      },
      "outputs": [],
      "source": [
        "# Create a function to go over the FeatureCollection and take the monthly sum\n",
        "def GPMsum(img_collection):\n",
        "  mylist = ee.List([])\n",
        "  for m in range(months_ts):\n",
        "\n",
        "    ini = start_ts + relativedelta(months=+m)\n",
        "    end = ini + relativedelta(months=+1) + relativedelta(days=-1)\n",
        "\n",
        "    sum_image = img_collection.filterDate(ini,end).select(0).sum()\n",
        "    mylist = mylist.add(sum_image.set('system:time_start', ini))\n",
        "  return ee.ImageCollection.fromImages(mylist)"
      ]
    },
    {
      "cell_type": "code",
      "execution_count": 14,
      "metadata": {
        "id": "keMMu6Xl2IKf"
      },
      "outputs": [],
      "source": [
        "# Apply the 'GPMsum' function to create FeatureCollection with monthly sum \n",
        "monthlyGPM = ee.ImageCollection(GPMsum(gpm))\n",
        "# Sort FeatureCollection by date and create single image with bands\n",
        "monthlyGPM_stack = monthlyGPM.sort('system:time_start').toBands().multiply(0.5)"
      ]
    },
    {
      "cell_type": "code",
      "execution_count": 15,
      "metadata": {},
      "outputs": [],
      "source": [
        "img_todrive = {\n",
        "    'description': country + '_GPM_stack',\n",
        "    'folder': 'Regreening_Africa',\n",
        "    'scale': 11000,\n",
        "    'maxPixels': 1e13,\n",
        "    'region': centroid_multi,\n",
        "    'fileFormat': 'GeoTIFF'}\n",
        "\n",
        "task = ee.batch.Export.image.toDrive(monthlyGPM_stack, **img_todrive)\n",
        "task.start()"
      ]
    },
    {
      "cell_type": "code",
      "execution_count": 16,
      "metadata": {},
      "outputs": [
        {
          "data": {
            "text/plain": [
              "{'state': 'READY',\n",
              " 'description': 'Ethiopia_GPM_stack',\n",
              " 'creation_timestamp_ms': 1669124103484,\n",
              " 'update_timestamp_ms': 1669124103484,\n",
              " 'start_timestamp_ms': 0,\n",
              " 'task_type': 'EXPORT_IMAGE',\n",
              " 'id': 'ULRRZWXHYE5TC25DZOO7MNPM',\n",
              " 'name': 'projects/earthengine-legacy/operations/ULRRZWXHYE5TC25DZOO7MNPM'}"
            ]
          },
          "execution_count": 16,
          "metadata": {},
          "output_type": "execute_result"
        }
      ],
      "source": [
        "task.status()"
      ]
    }
  ],
  "metadata": {
    "colab": {
      "collapsed_sections": [],
      "name": "build_timeseries.ipynb",
      "provenance": []
    },
    "kernelspec": {
      "display_name": "Python 3.8.13 ('Regreening')",
      "language": "python",
      "name": "python3"
    },
    "language_info": {
      "codemirror_mode": {
        "name": "ipython",
        "version": 3
      },
      "file_extension": ".py",
      "mimetype": "text/x-python",
      "name": "python",
      "nbconvert_exporter": "python",
      "pygments_lexer": "ipython3",
      "version": "3.8.13 (default, Mar 28 2022, 06:59:08) [MSC v.1916 64 bit (AMD64)]"
    },
    "vscode": {
      "interpreter": {
        "hash": "8442a2965578f263f5bf0117af7c6f237fef6c3678ce3fc02c660773d7086046"
      }
    }
  },
  "nbformat": 4,
  "nbformat_minor": 0
}
